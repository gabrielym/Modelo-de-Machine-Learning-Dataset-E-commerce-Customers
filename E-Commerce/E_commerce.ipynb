{
 "cells": [
  {
   "cell_type": "markdown",
   "id": "c8f10ca4",
   "metadata": {
    "id": "c8f10ca4"
   },
   "source": [
    "# Modelo de Regressão Linear Simples Dataset E-commerce Customers\n",
    "por Gabriely da Mata"
   ]
  },
  {
   "cell_type": "markdown",
   "id": "0834dc2e",
   "metadata": {
    "id": "0834dc2e"
   },
   "source": [
    "O modelo possui 8 colunas com informações pessoais, tempo de uso do aplicativo mobile e website. Sendo:\n",
    "\n",
    "\n",
    "- Avg. Session Length: Tempo médio das sessões de consultoria de estilo na loja.\n",
    "- Time on App: tempo médio gasto no app em minutos.\n",
    "- Time on Website: tempo médio gasto no site em minutos.\n",
    "- Lenght of Membership: Há quantos anos o cliente é membro. O modelo tem por objetivo obter uma estratégia de negócio com base no modelo de ML, verificando onde é melhor investir"
   ]
  },
  {
   "cell_type": "code",
   "execution_count": 2,
   "id": "2bb914bf",
   "metadata": {
    "id": "2bb914bf"
   },
   "outputs": [],
   "source": [
    "import pandas as pd\n",
    "import seaborn as sns\n",
    "import matplotlib.pyplot as plt\n",
    "import seaborn as sns\n",
    "from sklearn.linear_model import LinearRegression\n",
    "%matplotlib inline"
   ]
  },
  {
   "cell_type": "code",
   "execution_count": 13,
   "id": "k0-A3BQnzRL3",
   "metadata": {
    "id": "k0-A3BQnzRL3"
   },
   "outputs": [],
   "source": [
    "import numpy as np"
   ]
  },
  {
   "cell_type": "code",
   "execution_count": 3,
   "id": "2a8de35d",
   "metadata": {
    "id": "2a8de35d"
   },
   "outputs": [],
   "source": [
    "from yellowbrick.regressor import ResidualsPlot"
   ]
  },
  {
   "cell_type": "code",
   "execution_count": 8,
   "id": "2ced558f",
   "metadata": {
    "id": "2ced558f"
   },
   "outputs": [],
   "source": [
    "df = pd.read_csv('Ecommerce Customers.csv')"
   ]
  },
  {
   "cell_type": "code",
   "execution_count": 9,
   "id": "88894de7",
   "metadata": {
    "colab": {
     "base_uri": "https://localhost:8080/",
     "height": 496
    },
    "id": "88894de7",
    "outputId": "5f4e9c98-c0c8-4e9f-b876-36e34e55bd4f"
   },
   "outputs": [
    {
     "data": {
      "text/html": [
       "\n",
       "  <div id=\"df-6cf807f3-9257-4521-934b-88a48e64d2ea\">\n",
       "    <div class=\"colab-df-container\">\n",
       "      <div>\n",
       "<style scoped>\n",
       "    .dataframe tbody tr th:only-of-type {\n",
       "        vertical-align: middle;\n",
       "    }\n",
       "\n",
       "    .dataframe tbody tr th {\n",
       "        vertical-align: top;\n",
       "    }\n",
       "\n",
       "    .dataframe thead th {\n",
       "        text-align: right;\n",
       "    }\n",
       "</style>\n",
       "<table border=\"1\" class=\"dataframe\">\n",
       "  <thead>\n",
       "    <tr style=\"text-align: right;\">\n",
       "      <th></th>\n",
       "      <th>Email</th>\n",
       "      <th>Address</th>\n",
       "      <th>Avatar</th>\n",
       "      <th>Avg. Session Length</th>\n",
       "      <th>Time on App</th>\n",
       "      <th>Time on Website</th>\n",
       "      <th>Length of Membership</th>\n",
       "      <th>Yearly Amount Spent</th>\n",
       "    </tr>\n",
       "  </thead>\n",
       "  <tbody>\n",
       "    <tr>\n",
       "      <th>0</th>\n",
       "      <td>mstephenson@fernandez.com</td>\n",
       "      <td>835 Frank Tunnel\\nWrightmouth, MI 82180-9605</td>\n",
       "      <td>Violet</td>\n",
       "      <td>34.497268</td>\n",
       "      <td>12.655651</td>\n",
       "      <td>39.577668</td>\n",
       "      <td>4.082621</td>\n",
       "      <td>587.951054</td>\n",
       "    </tr>\n",
       "    <tr>\n",
       "      <th>1</th>\n",
       "      <td>hduke@hotmail.com</td>\n",
       "      <td>4547 Archer Common\\nDiazchester, CA 06566-8576</td>\n",
       "      <td>DarkGreen</td>\n",
       "      <td>31.926272</td>\n",
       "      <td>11.109461</td>\n",
       "      <td>37.268959</td>\n",
       "      <td>2.664034</td>\n",
       "      <td>392.204933</td>\n",
       "    </tr>\n",
       "    <tr>\n",
       "      <th>2</th>\n",
       "      <td>pallen@yahoo.com</td>\n",
       "      <td>24645 Valerie Unions Suite 582\\nCobbborough, D...</td>\n",
       "      <td>Bisque</td>\n",
       "      <td>33.000915</td>\n",
       "      <td>11.330278</td>\n",
       "      <td>37.110597</td>\n",
       "      <td>4.104543</td>\n",
       "      <td>487.547505</td>\n",
       "    </tr>\n",
       "    <tr>\n",
       "      <th>3</th>\n",
       "      <td>riverarebecca@gmail.com</td>\n",
       "      <td>1414 David Throughway\\nPort Jason, OH 22070-1220</td>\n",
       "      <td>SaddleBrown</td>\n",
       "      <td>34.305557</td>\n",
       "      <td>13.717514</td>\n",
       "      <td>36.721283</td>\n",
       "      <td>3.120179</td>\n",
       "      <td>581.852344</td>\n",
       "    </tr>\n",
       "    <tr>\n",
       "      <th>4</th>\n",
       "      <td>mstephens@davidson-herman.com</td>\n",
       "      <td>14023 Rodriguez Passage\\nPort Jacobville, PR 3...</td>\n",
       "      <td>MediumAquaMarine</td>\n",
       "      <td>33.330673</td>\n",
       "      <td>12.795189</td>\n",
       "      <td>37.536653</td>\n",
       "      <td>4.446308</td>\n",
       "      <td>599.406092</td>\n",
       "    </tr>\n",
       "  </tbody>\n",
       "</table>\n",
       "</div>\n",
       "      <button class=\"colab-df-convert\" onclick=\"convertToInteractive('df-6cf807f3-9257-4521-934b-88a48e64d2ea')\"\n",
       "              title=\"Convert this dataframe to an interactive table.\"\n",
       "              style=\"display:none;\">\n",
       "        \n",
       "  <svg xmlns=\"http://www.w3.org/2000/svg\" height=\"24px\"viewBox=\"0 0 24 24\"\n",
       "       width=\"24px\">\n",
       "    <path d=\"M0 0h24v24H0V0z\" fill=\"none\"/>\n",
       "    <path d=\"M18.56 5.44l.94 2.06.94-2.06 2.06-.94-2.06-.94-.94-2.06-.94 2.06-2.06.94zm-11 1L8.5 8.5l.94-2.06 2.06-.94-2.06-.94L8.5 2.5l-.94 2.06-2.06.94zm10 10l.94 2.06.94-2.06 2.06-.94-2.06-.94-.94-2.06-.94 2.06-2.06.94z\"/><path d=\"M17.41 7.96l-1.37-1.37c-.4-.4-.92-.59-1.43-.59-.52 0-1.04.2-1.43.59L10.3 9.45l-7.72 7.72c-.78.78-.78 2.05 0 2.83L4 21.41c.39.39.9.59 1.41.59.51 0 1.02-.2 1.41-.59l7.78-7.78 2.81-2.81c.8-.78.8-2.07 0-2.86zM5.41 20L4 18.59l7.72-7.72 1.47 1.35L5.41 20z\"/>\n",
       "  </svg>\n",
       "      </button>\n",
       "      \n",
       "  <style>\n",
       "    .colab-df-container {\n",
       "      display:flex;\n",
       "      flex-wrap:wrap;\n",
       "      gap: 12px;\n",
       "    }\n",
       "\n",
       "    .colab-df-convert {\n",
       "      background-color: #E8F0FE;\n",
       "      border: none;\n",
       "      border-radius: 50%;\n",
       "      cursor: pointer;\n",
       "      display: none;\n",
       "      fill: #1967D2;\n",
       "      height: 32px;\n",
       "      padding: 0 0 0 0;\n",
       "      width: 32px;\n",
       "    }\n",
       "\n",
       "    .colab-df-convert:hover {\n",
       "      background-color: #E2EBFA;\n",
       "      box-shadow: 0px 1px 2px rgba(60, 64, 67, 0.3), 0px 1px 3px 1px rgba(60, 64, 67, 0.15);\n",
       "      fill: #174EA6;\n",
       "    }\n",
       "\n",
       "    [theme=dark] .colab-df-convert {\n",
       "      background-color: #3B4455;\n",
       "      fill: #D2E3FC;\n",
       "    }\n",
       "\n",
       "    [theme=dark] .colab-df-convert:hover {\n",
       "      background-color: #434B5C;\n",
       "      box-shadow: 0px 1px 3px 1px rgba(0, 0, 0, 0.15);\n",
       "      filter: drop-shadow(0px 1px 2px rgba(0, 0, 0, 0.3));\n",
       "      fill: #FFFFFF;\n",
       "    }\n",
       "  </style>\n",
       "\n",
       "      <script>\n",
       "        const buttonEl =\n",
       "          document.querySelector('#df-6cf807f3-9257-4521-934b-88a48e64d2ea button.colab-df-convert');\n",
       "        buttonEl.style.display =\n",
       "          google.colab.kernel.accessAllowed ? 'block' : 'none';\n",
       "\n",
       "        async function convertToInteractive(key) {\n",
       "          const element = document.querySelector('#df-6cf807f3-9257-4521-934b-88a48e64d2ea');\n",
       "          const dataTable =\n",
       "            await google.colab.kernel.invokeFunction('convertToInteractive',\n",
       "                                                     [key], {});\n",
       "          if (!dataTable) return;\n",
       "\n",
       "          const docLinkHtml = 'Like what you see? Visit the ' +\n",
       "            '<a target=\"_blank\" href=https://colab.research.google.com/notebooks/data_table.ipynb>data table notebook</a>'\n",
       "            + ' to learn more about interactive tables.';\n",
       "          element.innerHTML = '';\n",
       "          dataTable['output_type'] = 'display_data';\n",
       "          await google.colab.output.renderOutput(dataTable, element);\n",
       "          const docLink = document.createElement('div');\n",
       "          docLink.innerHTML = docLinkHtml;\n",
       "          element.appendChild(docLink);\n",
       "        }\n",
       "      </script>\n",
       "    </div>\n",
       "  </div>\n",
       "  "
      ],
      "text/plain": [
       "                           Email  \\\n",
       "0      mstephenson@fernandez.com   \n",
       "1              hduke@hotmail.com   \n",
       "2               pallen@yahoo.com   \n",
       "3        riverarebecca@gmail.com   \n",
       "4  mstephens@davidson-herman.com   \n",
       "\n",
       "                                             Address            Avatar  \\\n",
       "0       835 Frank Tunnel\\nWrightmouth, MI 82180-9605            Violet   \n",
       "1     4547 Archer Common\\nDiazchester, CA 06566-8576         DarkGreen   \n",
       "2  24645 Valerie Unions Suite 582\\nCobbborough, D...            Bisque   \n",
       "3   1414 David Throughway\\nPort Jason, OH 22070-1220       SaddleBrown   \n",
       "4  14023 Rodriguez Passage\\nPort Jacobville, PR 3...  MediumAquaMarine   \n",
       "\n",
       "   Avg. Session Length  Time on App  Time on Website  Length of Membership  \\\n",
       "0            34.497268    12.655651        39.577668              4.082621   \n",
       "1            31.926272    11.109461        37.268959              2.664034   \n",
       "2            33.000915    11.330278        37.110597              4.104543   \n",
       "3            34.305557    13.717514        36.721283              3.120179   \n",
       "4            33.330673    12.795189        37.536653              4.446308   \n",
       "\n",
       "   Yearly Amount Spent  \n",
       "0           587.951054  \n",
       "1           392.204933  \n",
       "2           487.547505  \n",
       "3           581.852344  \n",
       "4           599.406092  "
      ]
     },
     "execution_count": 9,
     "metadata": {},
     "output_type": "execute_result"
    }
   ],
   "source": [
    "df.head()"
   ]
  },
  {
   "cell_type": "code",
   "execution_count": 46,
   "id": "sCiRlHiQ9z6t",
   "metadata": {
    "colab": {
     "base_uri": "https://localhost:8080/"
    },
    "id": "sCiRlHiQ9z6t",
    "outputId": "e0e3a28c-9853-4c35-9712-041d54a51d29"
   },
   "outputs": [
    {
     "data": {
      "text/plain": [
       "count    500.000000\n",
       "mean     499.314038\n",
       "std       79.314782\n",
       "min      256.670582\n",
       "25%      445.038277\n",
       "50%      498.887875\n",
       "75%      549.313828\n",
       "max      765.518462\n",
       "Name: Yearly Amount Spent, dtype: float64"
      ]
     },
     "execution_count": 46,
     "metadata": {},
     "output_type": "execute_result"
    }
   ],
   "source": [
    "df['Yearly Amount Spent'].describe()"
   ]
  },
  {
   "cell_type": "code",
   "execution_count": null,
   "id": "2e2ba2a5",
   "metadata": {
    "id": "2e2ba2a5",
    "outputId": "ba9bee95-b931-4b68-e14b-fb7b8c85fb9d"
   },
   "outputs": [
    {
     "data": {
      "text/plain": [
       "Email                   0\n",
       "Address                 0\n",
       "Avatar                  0\n",
       "Avg. Session Length     0\n",
       "Time on App             0\n",
       "Time on Website         0\n",
       "Length of Membership    0\n",
       "Yearly Amount Spent     0\n",
       "dtype: int64"
      ]
     },
     "execution_count": 8,
     "metadata": {},
     "output_type": "execute_result"
    }
   ],
   "source": [
    "df.isnull().sum()"
   ]
  },
  {
   "cell_type": "code",
   "execution_count": null,
   "id": "7566baeb",
   "metadata": {
    "collapsed": true,
    "id": "7566baeb",
    "outputId": "a056110e-61a6-49b1-f690-2c855cc16fd1"
   },
   "outputs": [
    {
     "data": {
      "text/html": [
       "<div>\n",
       "<style scoped>\n",
       "    .dataframe tbody tr th:only-of-type {\n",
       "        vertical-align: middle;\n",
       "    }\n",
       "\n",
       "    .dataframe tbody tr th {\n",
       "        vertical-align: top;\n",
       "    }\n",
       "\n",
       "    .dataframe thead th {\n",
       "        text-align: right;\n",
       "    }\n",
       "</style>\n",
       "<table border=\"1\" class=\"dataframe\">\n",
       "  <thead>\n",
       "    <tr style=\"text-align: right;\">\n",
       "      <th></th>\n",
       "      <th>Avg. Session Length</th>\n",
       "      <th>Time on App</th>\n",
       "      <th>Time on Website</th>\n",
       "      <th>Length of Membership</th>\n",
       "      <th>Yearly Amount Spent</th>\n",
       "      <th>Email_aaron04@yahoo.com</th>\n",
       "      <th>Email_aaron11@luna.com</th>\n",
       "      <th>Email_aaron22@gmail.com</th>\n",
       "      <th>Email_aaron89@gmail.com</th>\n",
       "      <th>Email_acampbell@sanchez-velasquez.info</th>\n",
       "      <th>...</th>\n",
       "      <th>Avatar_Teal</th>\n",
       "      <th>Avatar_Thistle</th>\n",
       "      <th>Avatar_Tomato</th>\n",
       "      <th>Avatar_Turquoise</th>\n",
       "      <th>Avatar_Violet</th>\n",
       "      <th>Avatar_Wheat</th>\n",
       "      <th>Avatar_White</th>\n",
       "      <th>Avatar_WhiteSmoke</th>\n",
       "      <th>Avatar_Yellow</th>\n",
       "      <th>Avatar_YellowGreen</th>\n",
       "    </tr>\n",
       "  </thead>\n",
       "  <tbody>\n",
       "    <tr>\n",
       "      <th>0</th>\n",
       "      <td>34.497268</td>\n",
       "      <td>12.655651</td>\n",
       "      <td>39.577668</td>\n",
       "      <td>4.082621</td>\n",
       "      <td>587.951054</td>\n",
       "      <td>0</td>\n",
       "      <td>0</td>\n",
       "      <td>0</td>\n",
       "      <td>0</td>\n",
       "      <td>0</td>\n",
       "      <td>...</td>\n",
       "      <td>0</td>\n",
       "      <td>0</td>\n",
       "      <td>0</td>\n",
       "      <td>0</td>\n",
       "      <td>1</td>\n",
       "      <td>0</td>\n",
       "      <td>0</td>\n",
       "      <td>0</td>\n",
       "      <td>0</td>\n",
       "      <td>0</td>\n",
       "    </tr>\n",
       "    <tr>\n",
       "      <th>1</th>\n",
       "      <td>31.926272</td>\n",
       "      <td>11.109461</td>\n",
       "      <td>37.268959</td>\n",
       "      <td>2.664034</td>\n",
       "      <td>392.204933</td>\n",
       "      <td>0</td>\n",
       "      <td>0</td>\n",
       "      <td>0</td>\n",
       "      <td>0</td>\n",
       "      <td>0</td>\n",
       "      <td>...</td>\n",
       "      <td>0</td>\n",
       "      <td>0</td>\n",
       "      <td>0</td>\n",
       "      <td>0</td>\n",
       "      <td>0</td>\n",
       "      <td>0</td>\n",
       "      <td>0</td>\n",
       "      <td>0</td>\n",
       "      <td>0</td>\n",
       "      <td>0</td>\n",
       "    </tr>\n",
       "    <tr>\n",
       "      <th>2</th>\n",
       "      <td>33.000915</td>\n",
       "      <td>11.330278</td>\n",
       "      <td>37.110597</td>\n",
       "      <td>4.104543</td>\n",
       "      <td>487.547505</td>\n",
       "      <td>0</td>\n",
       "      <td>0</td>\n",
       "      <td>0</td>\n",
       "      <td>0</td>\n",
       "      <td>0</td>\n",
       "      <td>...</td>\n",
       "      <td>0</td>\n",
       "      <td>0</td>\n",
       "      <td>0</td>\n",
       "      <td>0</td>\n",
       "      <td>0</td>\n",
       "      <td>0</td>\n",
       "      <td>0</td>\n",
       "      <td>0</td>\n",
       "      <td>0</td>\n",
       "      <td>0</td>\n",
       "    </tr>\n",
       "    <tr>\n",
       "      <th>3</th>\n",
       "      <td>34.305557</td>\n",
       "      <td>13.717514</td>\n",
       "      <td>36.721283</td>\n",
       "      <td>3.120179</td>\n",
       "      <td>581.852344</td>\n",
       "      <td>0</td>\n",
       "      <td>0</td>\n",
       "      <td>0</td>\n",
       "      <td>0</td>\n",
       "      <td>0</td>\n",
       "      <td>...</td>\n",
       "      <td>0</td>\n",
       "      <td>0</td>\n",
       "      <td>0</td>\n",
       "      <td>0</td>\n",
       "      <td>0</td>\n",
       "      <td>0</td>\n",
       "      <td>0</td>\n",
       "      <td>0</td>\n",
       "      <td>0</td>\n",
       "      <td>0</td>\n",
       "    </tr>\n",
       "    <tr>\n",
       "      <th>4</th>\n",
       "      <td>33.330673</td>\n",
       "      <td>12.795189</td>\n",
       "      <td>37.536653</td>\n",
       "      <td>4.446308</td>\n",
       "      <td>599.406092</td>\n",
       "      <td>0</td>\n",
       "      <td>0</td>\n",
       "      <td>0</td>\n",
       "      <td>0</td>\n",
       "      <td>0</td>\n",
       "      <td>...</td>\n",
       "      <td>0</td>\n",
       "      <td>0</td>\n",
       "      <td>0</td>\n",
       "      <td>0</td>\n",
       "      <td>0</td>\n",
       "      <td>0</td>\n",
       "      <td>0</td>\n",
       "      <td>0</td>\n",
       "      <td>0</td>\n",
       "      <td>0</td>\n",
       "    </tr>\n",
       "    <tr>\n",
       "      <th>...</th>\n",
       "      <td>...</td>\n",
       "      <td>...</td>\n",
       "      <td>...</td>\n",
       "      <td>...</td>\n",
       "      <td>...</td>\n",
       "      <td>...</td>\n",
       "      <td>...</td>\n",
       "      <td>...</td>\n",
       "      <td>...</td>\n",
       "      <td>...</td>\n",
       "      <td>...</td>\n",
       "      <td>...</td>\n",
       "      <td>...</td>\n",
       "      <td>...</td>\n",
       "      <td>...</td>\n",
       "      <td>...</td>\n",
       "      <td>...</td>\n",
       "      <td>...</td>\n",
       "      <td>...</td>\n",
       "      <td>...</td>\n",
       "      <td>...</td>\n",
       "    </tr>\n",
       "    <tr>\n",
       "      <th>495</th>\n",
       "      <td>33.237660</td>\n",
       "      <td>13.566160</td>\n",
       "      <td>36.417985</td>\n",
       "      <td>3.746573</td>\n",
       "      <td>573.847438</td>\n",
       "      <td>0</td>\n",
       "      <td>0</td>\n",
       "      <td>0</td>\n",
       "      <td>0</td>\n",
       "      <td>0</td>\n",
       "      <td>...</td>\n",
       "      <td>0</td>\n",
       "      <td>0</td>\n",
       "      <td>0</td>\n",
       "      <td>0</td>\n",
       "      <td>0</td>\n",
       "      <td>0</td>\n",
       "      <td>0</td>\n",
       "      <td>0</td>\n",
       "      <td>0</td>\n",
       "      <td>0</td>\n",
       "    </tr>\n",
       "    <tr>\n",
       "      <th>496</th>\n",
       "      <td>34.702529</td>\n",
       "      <td>11.695736</td>\n",
       "      <td>37.190268</td>\n",
       "      <td>3.576526</td>\n",
       "      <td>529.049004</td>\n",
       "      <td>0</td>\n",
       "      <td>0</td>\n",
       "      <td>0</td>\n",
       "      <td>0</td>\n",
       "      <td>0</td>\n",
       "      <td>...</td>\n",
       "      <td>0</td>\n",
       "      <td>0</td>\n",
       "      <td>0</td>\n",
       "      <td>0</td>\n",
       "      <td>0</td>\n",
       "      <td>0</td>\n",
       "      <td>0</td>\n",
       "      <td>0</td>\n",
       "      <td>0</td>\n",
       "      <td>0</td>\n",
       "    </tr>\n",
       "    <tr>\n",
       "      <th>497</th>\n",
       "      <td>32.646777</td>\n",
       "      <td>11.499409</td>\n",
       "      <td>38.332576</td>\n",
       "      <td>4.958264</td>\n",
       "      <td>551.620145</td>\n",
       "      <td>0</td>\n",
       "      <td>0</td>\n",
       "      <td>0</td>\n",
       "      <td>0</td>\n",
       "      <td>0</td>\n",
       "      <td>...</td>\n",
       "      <td>0</td>\n",
       "      <td>0</td>\n",
       "      <td>0</td>\n",
       "      <td>0</td>\n",
       "      <td>0</td>\n",
       "      <td>0</td>\n",
       "      <td>0</td>\n",
       "      <td>0</td>\n",
       "      <td>0</td>\n",
       "      <td>0</td>\n",
       "    </tr>\n",
       "    <tr>\n",
       "      <th>498</th>\n",
       "      <td>33.322501</td>\n",
       "      <td>12.391423</td>\n",
       "      <td>36.840086</td>\n",
       "      <td>2.336485</td>\n",
       "      <td>456.469510</td>\n",
       "      <td>0</td>\n",
       "      <td>0</td>\n",
       "      <td>0</td>\n",
       "      <td>0</td>\n",
       "      <td>0</td>\n",
       "      <td>...</td>\n",
       "      <td>1</td>\n",
       "      <td>0</td>\n",
       "      <td>0</td>\n",
       "      <td>0</td>\n",
       "      <td>0</td>\n",
       "      <td>0</td>\n",
       "      <td>0</td>\n",
       "      <td>0</td>\n",
       "      <td>0</td>\n",
       "      <td>0</td>\n",
       "    </tr>\n",
       "    <tr>\n",
       "      <th>499</th>\n",
       "      <td>33.715981</td>\n",
       "      <td>12.418808</td>\n",
       "      <td>35.771016</td>\n",
       "      <td>2.735160</td>\n",
       "      <td>497.778642</td>\n",
       "      <td>0</td>\n",
       "      <td>0</td>\n",
       "      <td>0</td>\n",
       "      <td>0</td>\n",
       "      <td>0</td>\n",
       "      <td>...</td>\n",
       "      <td>0</td>\n",
       "      <td>0</td>\n",
       "      <td>0</td>\n",
       "      <td>0</td>\n",
       "      <td>0</td>\n",
       "      <td>0</td>\n",
       "      <td>0</td>\n",
       "      <td>0</td>\n",
       "      <td>0</td>\n",
       "      <td>0</td>\n",
       "    </tr>\n",
       "  </tbody>\n",
       "</table>\n",
       "<p>500 rows × 1143 columns</p>\n",
       "</div>"
      ],
      "text/plain": [
       "     Avg. Session Length  Time on App  Time on Website  Length of Membership  \\\n",
       "0              34.497268    12.655651        39.577668              4.082621   \n",
       "1              31.926272    11.109461        37.268959              2.664034   \n",
       "2              33.000915    11.330278        37.110597              4.104543   \n",
       "3              34.305557    13.717514        36.721283              3.120179   \n",
       "4              33.330673    12.795189        37.536653              4.446308   \n",
       "..                   ...          ...              ...                   ...   \n",
       "495            33.237660    13.566160        36.417985              3.746573   \n",
       "496            34.702529    11.695736        37.190268              3.576526   \n",
       "497            32.646777    11.499409        38.332576              4.958264   \n",
       "498            33.322501    12.391423        36.840086              2.336485   \n",
       "499            33.715981    12.418808        35.771016              2.735160   \n",
       "\n",
       "     Yearly Amount Spent  Email_aaron04@yahoo.com  Email_aaron11@luna.com  \\\n",
       "0             587.951054                        0                       0   \n",
       "1             392.204933                        0                       0   \n",
       "2             487.547505                        0                       0   \n",
       "3             581.852344                        0                       0   \n",
       "4             599.406092                        0                       0   \n",
       "..                   ...                      ...                     ...   \n",
       "495           573.847438                        0                       0   \n",
       "496           529.049004                        0                       0   \n",
       "497           551.620145                        0                       0   \n",
       "498           456.469510                        0                       0   \n",
       "499           497.778642                        0                       0   \n",
       "\n",
       "     Email_aaron22@gmail.com  Email_aaron89@gmail.com  \\\n",
       "0                          0                        0   \n",
       "1                          0                        0   \n",
       "2                          0                        0   \n",
       "3                          0                        0   \n",
       "4                          0                        0   \n",
       "..                       ...                      ...   \n",
       "495                        0                        0   \n",
       "496                        0                        0   \n",
       "497                        0                        0   \n",
       "498                        0                        0   \n",
       "499                        0                        0   \n",
       "\n",
       "     Email_acampbell@sanchez-velasquez.info  ...  Avatar_Teal  Avatar_Thistle  \\\n",
       "0                                         0  ...            0               0   \n",
       "1                                         0  ...            0               0   \n",
       "2                                         0  ...            0               0   \n",
       "3                                         0  ...            0               0   \n",
       "4                                         0  ...            0               0   \n",
       "..                                      ...  ...          ...             ...   \n",
       "495                                       0  ...            0               0   \n",
       "496                                       0  ...            0               0   \n",
       "497                                       0  ...            0               0   \n",
       "498                                       0  ...            1               0   \n",
       "499                                       0  ...            0               0   \n",
       "\n",
       "     Avatar_Tomato  Avatar_Turquoise  Avatar_Violet  Avatar_Wheat  \\\n",
       "0                0                 0              1             0   \n",
       "1                0                 0              0             0   \n",
       "2                0                 0              0             0   \n",
       "3                0                 0              0             0   \n",
       "4                0                 0              0             0   \n",
       "..             ...               ...            ...           ...   \n",
       "495              0                 0              0             0   \n",
       "496              0                 0              0             0   \n",
       "497              0                 0              0             0   \n",
       "498              0                 0              0             0   \n",
       "499              0                 0              0             0   \n",
       "\n",
       "     Avatar_White  Avatar_WhiteSmoke  Avatar_Yellow  Avatar_YellowGreen  \n",
       "0               0                  0              0                   0  \n",
       "1               0                  0              0                   0  \n",
       "2               0                  0              0                   0  \n",
       "3               0                  0              0                   0  \n",
       "4               0                  0              0                   0  \n",
       "..            ...                ...            ...                 ...  \n",
       "495             0                  0              0                   0  \n",
       "496             0                  0              0                   0  \n",
       "497             0                  0              0                   0  \n",
       "498             0                  0              0                   0  \n",
       "499             0                  0              0                   0  \n",
       "\n",
       "[500 rows x 1143 columns]"
      ]
     },
     "execution_count": 13,
     "metadata": {},
     "output_type": "execute_result"
    }
   ],
   "source": [
    "pd.get_dummies(df)                                                                             "
   ]
  },
  {
   "cell_type": "code",
   "execution_count": 11,
   "id": "23244f27",
   "metadata": {
    "colab": {
     "base_uri": "https://localhost:8080/",
     "height": 458
    },
    "id": "23244f27",
    "outputId": "e7243323-3d8c-476c-b250-43dddea23363"
   },
   "outputs": [
    {
     "data": {
      "text/plain": [
       "<matplotlib.axes._subplots.AxesSubplot at 0x7fe31c4986d0>"
      ]
     },
     "execution_count": 11,
     "metadata": {},
     "output_type": "execute_result"
    },
    {
     "data": {
      "image/png": "[encoded data removed]",
      "text/plain": [
       "<Figure size 576x396 with 2 Axes>"
      ]
     },
     "metadata": {},
     "output_type": "display_data"
    }
   ],
   "source": [
    "sns.heatmap(df.corr())"
   ]
  },
  {
   "cell_type": "code",
   "execution_count": 24,
   "id": "XpkUMEEXyxnL",
   "metadata": {
    "id": "XpkUMEEXyxnL"
   },
   "outputs": [],
   "source": [
    "y = df['Yearly Amount Spent'].values\n",
    "X = df['Length of Membership'].values"
   ]
  },
  {
   "cell_type": "markdown",
   "id": "eLlvSogM6S8x",
   "metadata": {
    "id": "eLlvSogM6S8x"
   },
   "source": [
    "Para um modelo simples, foi feita a verificação de cada variável independente correlacionada com a dependente a fim de encontrar a com a maior correlação e foi a variável 'Length of Membership'."
   ]
  },
  {
   "cell_type": "code",
   "execution_count": 25,
   "id": "rDFeMWLRzAVn",
   "metadata": {
    "colab": {
     "base_uri": "https://localhost:8080/"
    },
    "id": "rDFeMWLRzAVn",
    "outputId": "8c8c2865-73ef-40ce-8c49-7f85ead73ae3"
   },
   "outputs": [
    {
     "data": {
      "text/plain": [
       "array([[1.        , 0.80908357],\n",
       "       [0.80908357, 1.        ]])"
      ]
     },
     "execution_count": 25,
     "metadata": {},
     "output_type": "execute_result"
    }
   ],
   "source": [
    "corre = np.corrcoef(X, y)\n",
    "corre"
   ]
  },
  {
   "cell_type": "code",
   "execution_count": 28,
   "id": "19tI52_e0DjZ",
   "metadata": {
    "colab": {
     "base_uri": "https://localhost:8080/"
    },
    "id": "19tI52_e0DjZ",
    "outputId": "3435d60c-f9b7-4613-916a-8b86a40c60dc"
   },
   "outputs": [
    {
     "data": {
      "text/plain": [
       "LinearRegression()"
      ]
     },
     "execution_count": 28,
     "metadata": {},
     "output_type": "execute_result"
    }
   ],
   "source": [
    "X = X.reshape(-1,1)\n",
    "modelo = LinearRegression()\n",
    "\n",
    "modelo.fit(X, y)"
   ]
  },
  {
   "cell_type": "code",
   "execution_count": 42,
   "id": "5Se-NksG2akX",
   "metadata": {
    "colab": {
     "base_uri": "https://localhost:8080/"
    },
    "id": "5Se-NksG2akX",
    "outputId": "3cbfd5f7-512d-41f2-9cdd-49ffde9b56fe"
   },
   "outputs": [
    {
     "data": {
      "text/plain": [
       "272.39978605802816"
      ]
     },
     "execution_count": 42,
     "metadata": {},
     "output_type": "execute_result"
    }
   ],
   "source": [
    "#Interceptação do modelo\n",
    "modelo.intercept_"
   ]
  },
  {
   "cell_type": "code",
   "execution_count": 43,
   "id": "otJnlkuS4nYg",
   "metadata": {
    "colab": {
     "base_uri": "https://localhost:8080/"
    },
    "id": "otJnlkuS4nYg",
    "outputId": "630aac59-9621-4330-a418-8975f4d9e988"
   },
   "outputs": [
    {
     "data": {
      "text/plain": [
       "array([64.21868432])"
      ]
     },
     "execution_count": 43,
     "metadata": {},
     "output_type": "execute_result"
    }
   ],
   "source": [
    "#Inclinação do modelo\n",
    "modelo.coef_"
   ]
  },
  {
   "cell_type": "markdown",
   "id": "DIM-F4w55Vsc",
   "metadata": {
    "id": "DIM-F4w55Vsc"
   },
   "source": [
    "Visualizando graficamente"
   ]
  },
  {
   "cell_type": "code",
   "execution_count": 44,
   "id": "HGfpo-kF5Ae-",
   "metadata": {
    "colab": {
     "base_uri": "https://localhost:8080/",
     "height": 364
    },
    "id": "HGfpo-kF5Ae-",
    "outputId": "50a947eb-38c3-403d-f720-43b12e52d067"
   },
   "outputs": [
    {
     "data": {
      "text/plain": [
       "[<matplotlib.lines.Line2D at 0x7fe31540c6d0>]"
      ]
     },
     "execution_count": 44,
     "metadata": {},
     "output_type": "execute_result"
    },
    {
     "data": {
      "image/png": "[encoded data removed]",
      "text/plain": [
       "<Figure size 576x396 with 1 Axes>"
      ]
     },
     "metadata": {},
     "output_type": "display_data"
    }
   ],
   "source": [
    "plt.scatter(X, y)\n",
    "plt.plot(X, modelo.predict(X), color='red')"
   ]
  },
  {
   "cell_type": "markdown",
   "id": "fKfKlKzg9MY6",
   "metadata": {
    "id": "fKfKlKzg9MY6"
   },
   "source": [
    "Aplicando a fórmula de regressão linear simples a fim de prever quantos anos de associação precisam para atingir a média do valor anual gasto('Yearly Amount Spent') = ~500.\n",
    "\n",
    "\n",
    "\n",
    "![RegressaoLinearSimples.PNG](data:image/png;base64,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)"
   ]
  },
  {
   "cell_type": "code",
   "execution_count": 50,
   "id": "i-EaIShj9CD_",
   "metadata": {
    "colab": {
     "base_uri": "https://localhost:8080/"
    },
    "id": "i-EaIShj9CD_",
    "outputId": "c94ed40d-6f4d-4e5d-9bf0-904690a6e7b7"
   },
   "outputs": [
    {
     "data": {
      "text/plain": [
       "array([465.055839])"
      ]
     },
     "execution_count": 50,
     "metadata": {},
     "output_type": "execute_result"
    }
   ],
   "source": [
    "#manual, exemplo de 3 anos, mais aproximado da média\n",
    "previsao = modelo.intercept_ + (modelo.coef_ * 3)\n",
    "previsao"
   ]
  },
  {
   "cell_type": "code",
   "execution_count": 53,
   "id": "CT8-CxQ9_n8w",
   "metadata": {
    "colab": {
     "base_uri": "https://localhost:8080/"
    },
    "id": "CT8-CxQ9_n8w",
    "outputId": "940befc7-bdfc-4c1e-b8e8-ecd4f55ae125"
   },
   "outputs": [
    {
     "data": {
      "text/plain": [
       "array([465.055839])"
      ]
     },
     "execution_count": 53,
     "metadata": {},
     "output_type": "execute_result"
    }
   ],
   "source": [
    "#Utilizando a função imbutida no sklearn, mesmo exemplo\n",
    "modelo.predict([[3]])"
   ]
  },
  {
   "cell_type": "markdown",
   "id": "63b0dfd6",
   "metadata": {},
   "source": [
    "***Conclusão: precisa-se de pelo menos 3 anos de associação para atigir a média de gasto anual, ou seja, o proprietário pode investir em fidelizar por mais tempo os clientes com pelo menos 3 anos a fim de ultrapassar a média anual."
   ]
  },
  {
   "cell_type": "markdown",
   "id": "s-sE8lRhBAyE",
   "metadata": {
    "id": "s-sE8lRhBAyE"
   },
   "source": [
    "Verificação de resíduos: saber se é um bom modelo de regressão linear ou poderia optar por outra abordagem.\n",
    "- Tem de estar padronizados, mais próximo possível de uma distribiução normal."
   ]
  },
  {
   "cell_type": "code",
   "execution_count": 54,
   "id": "xWwJEzD2APsV",
   "metadata": {
    "colab": {
     "base_uri": "https://localhost:8080/",
     "height": 393
    },
    "id": "xWwJEzD2APsV",
    "outputId": "fe567249-bf35-4dd3-b58b-51d6b91fa4ad"
   },
   "outputs": [
    {
     "data": {
      "image/png": "[encoded data removed]",
      "text/plain": [
       "<Figure size 576x396 with 2 Axes>"
      ]
     },
     "metadata": {},
     "output_type": "display_data"
    },
    {
     "data": {
      "text/plain": [
       "<matplotlib.axes._subplots.AxesSubplot at 0x7fe315025890>"
      ]
     },
     "execution_count": 54,
     "metadata": {},
     "output_type": "execute_result"
    }
   ],
   "source": [
    "#Gráfico de residuais\n",
    "residuais = ResidualsPlot(modelo)\n",
    "residuais.fit(X, y)\n",
    "residuais.show()"
   ]
  },
  {
   "cell_type": "markdown",
   "id": "l6JAD_26CaUc",
   "metadata": {
    "id": "l6JAD_26CaUc"
   },
   "source": [
    "Observa-se que os resíduos estão próximos de uma distribuição normal e com um coeficiente de determinação(R²) bom."
   ]
  }
 ],
 "metadata": {
  "colab": {
   "name": "E-commerce.ipynb",
   "provenance": []
  },
  "kernelspec": {
   "display_name": "Python 3 (ipykernel)",
   "language": "python",
   "name": "python3"
  },
  "language_info": {
   "codemirror_mode": {
    "name": "ipython",
    "version": 3
   },
   "file_extension": ".py",
   "mimetype": "text/x-python",
   "name": "python",
   "nbconvert_exporter": "python",
   "pygments_lexer": "ipython3",
   "version": "3.9.10"
  }
 },
 "nbformat": 4,
 "nbformat_minor": 5
}
